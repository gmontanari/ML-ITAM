{
 "cells": [
  {
   "cell_type": "markdown",
   "metadata": {},
   "source": [
    "# Las urnas de Chabelo"
   ]
  },
  {
   "cell_type": "code",
   "execution_count": 1,
   "metadata": {
    "collapsed": false
   },
   "outputs": [
    {
     "data": {
      "text/plain": [
       "urnas (generic function with 1 method)"
      ]
     },
     "execution_count": 1,
     "metadata": {},
     "output_type": "execute_result"
    }
   ],
   "source": [
    "function urnas(n)\n",
    "    urna_1 = Array(Int,0)\n",
    "    for i in 1:n\n",
    "        inicial = rand(1)*100\n",
    "        if inicial[1] >= 33.333\n",
    "            push!(urna_1,0)\n",
    "        else\n",
    "            push!(urna_1,1)\n",
    "        end\n",
    "    end\n",
    "    urna_2 = zeros(urna_1)\n",
    "    urna_3 = zeros(urna_1)\n",
    "    for i in 1:n\n",
    "        if urna_1[i] == 0\n",
    "            urna_2[i] = rand([0,1])\n",
    "        end\n",
    "        if urna_1[i] + urna_2[i] == 0\n",
    "            urna_3[i] = 1\n",
    "        end\n",
    "    end\n",
    "    urna_1, urna_2, urna_3\n",
    "end"
   ]
  },
  {
   "cell_type": "code",
   "execution_count": 2,
   "metadata": {
    "collapsed": false
   },
   "outputs": [
    {
     "data": {
      "text/plain": [
       "Chabelo (generic function with 1 method)"
      ]
     },
     "execution_count": 2,
     "metadata": {},
     "output_type": "execute_result"
    }
   ],
   "source": [
    "function Chabelo(n)\n",
    "    urna_1, urna_2, urna_3 = urnas(n)\n",
    "    abre_chabelo = zeros(urna_1)\n",
    "    for i in 1:length(urna_1)\n",
    "        if urna_1[i] == 0\n",
    "            if urna_2[i] != 0\n",
    "                abre = 3\n",
    "            else\n",
    "                abre = 2\n",
    "            end\n",
    "        else\n",
    "            abre = rand([2,3])\n",
    "        end\n",
    "        abre_chabelo[i] = abre\n",
    "    end\n",
    "    cambio_urna = zeros(abre_chabelo)\n",
    "    for i in 1:length(abre_chabelo)\n",
    "        if abre_chabelo[i] == 2\n",
    "            cambio_urna[i] = urna_3[i]\n",
    "        else\n",
    "            cambio_urna[i] = urna_2[i]\n",
    "        end\n",
    "    end\n",
    "    print(\"La probabilidad de ganar si te quedas la misma urna es: $(sum(urna_1)/n) \\n\")\n",
    "    print(\"La probabilidad de ganar si cambias de urna es: $(sum(cambio_urna)/n)\")\n",
    "end"
   ]
  },
  {
   "cell_type": "code",
   "execution_count": 12,
   "metadata": {
    "collapsed": false
   },
   "outputs": [
    {
     "name": "stdout",
     "output_type": "stream",
     "text": [
      "La probabilidad de ganar si te quedas la misma urna es: 0.335 \n",
      "La probabilidad de ganar si cambias de urna es: 0.665"
     ]
    }
   ],
   "source": [
    "Chabelo(1000)"
   ]
  },
  {
   "cell_type": "code",
   "execution_count": null,
   "metadata": {
    "collapsed": true
   },
   "outputs": [],
   "source": []
  }
 ],
 "metadata": {
  "anaconda-cloud": {},
  "kernelspec": {
   "display_name": "Julia 0.4.6",
   "language": "julia",
   "name": "julia-0.4"
  },
  "language_info": {
   "file_extension": ".jl",
   "mimetype": "application/julia",
   "name": "julia",
   "version": "0.4.6"
  }
 },
 "nbformat": 4,
 "nbformat_minor": 0
}
