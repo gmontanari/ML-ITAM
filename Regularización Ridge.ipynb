{
 "cells": [
  {
   "cell_type": "code",
   "execution_count": 1,
   "metadata": {
    "collapsed": false
   },
   "outputs": [
    {
     "data": {
      "text/html": [
       "\n",
       "    <div class=\"bk-root\">\n",
       "        <a href=\"http://bokeh.pydata.org\" target=\"_blank\" class=\"bk-logo bk-logo-small bk-logo-notebook\"></a>\n",
       "        <span id=\"5bd30bcd-46c8-43b6-a2dd-eec05bcd2e6b\">Loading BokehJS ...</span>\n",
       "    </div>"
      ]
     },
     "metadata": {},
     "output_type": "display_data"
    },
    {
     "data": {
      "application/javascript": [
       "\n",
       "(function(global) {\n",
       "  function now() {\n",
       "    return new Date();\n",
       "  }\n",
       "\n",
       "  if (typeof (window._bokeh_onload_callbacks) === \"undefined\") {\n",
       "    window._bokeh_onload_callbacks = [];\n",
       "  }\n",
       "\n",
       "  function run_callbacks() {\n",
       "    window._bokeh_onload_callbacks.forEach(function(callback) { callback() });\n",
       "    delete window._bokeh_onload_callbacks\n",
       "    console.info(\"Bokeh: all callbacks have finished\");\n",
       "  }\n",
       "\n",
       "  function load_libs(js_urls, callback) {\n",
       "    window._bokeh_onload_callbacks.push(callback);\n",
       "    if (window._bokeh_is_loading > 0) {\n",
       "      console.log(\"Bokeh: BokehJS is being loaded, scheduling callback at\", now());\n",
       "      return null;\n",
       "    }\n",
       "    if (js_urls == null || js_urls.length === 0) {\n",
       "      run_callbacks();\n",
       "      return null;\n",
       "    }\n",
       "    console.log(\"Bokeh: BokehJS not loaded, scheduling load and callback at\", now());\n",
       "    window._bokeh_is_loading = js_urls.length;\n",
       "    for (var i = 0; i < js_urls.length; i++) {\n",
       "      var url = js_urls[i];\n",
       "      var s = document.createElement('script');\n",
       "      s.src = url;\n",
       "      s.async = false;\n",
       "      s.onreadystatechange = s.onload = function() {\n",
       "        window._bokeh_is_loading--;\n",
       "        if (window._bokeh_is_loading === 0) {\n",
       "          console.log(\"Bokeh: all BokehJS libraries loaded\");\n",
       "          run_callbacks()\n",
       "        }\n",
       "      };\n",
       "      s.onerror = function() {\n",
       "        console.warn(\"failed to load library \" + url);\n",
       "      };\n",
       "      console.log(\"Bokeh: injecting script tag for BokehJS library: \", url);\n",
       "      document.getElementsByTagName(\"head\")[0].appendChild(s);\n",
       "    }\n",
       "  };\n",
       "\n",
       "  var js_urls = ['https://cdn.pydata.org/bokeh/release/bokeh-0.12.0.min.js', 'https://cdn.pydata.org/bokeh/release/bokeh-widgets-0.12.0.min.js', 'https://cdn.pydata.org/bokeh/release/bokeh-compiler-0.12.0.min.js'];\n",
       "\n",
       "  var inline_js = [\n",
       "    function(Bokeh) {\n",
       "      Bokeh.set_log_level(\"info\");\n",
       "    },\n",
       "    \n",
       "    function(Bokeh) {\n",
       "      Bokeh.$(\"#5bd30bcd-46c8-43b6-a2dd-eec05bcd2e6b\").text(\"BokehJS successfully loaded\");\n",
       "    },\n",
       "    function(Bokeh) {\n",
       "      console.log(\"Bokeh: injecting CSS: https://cdn.pydata.org/bokeh/release/bokeh-0.12.0.min.css\");\n",
       "      Bokeh.embed.inject_css(\"https://cdn.pydata.org/bokeh/release/bokeh-0.12.0.min.css\");\n",
       "      console.log(\"Bokeh: injecting CSS: https://cdn.pydata.org/bokeh/release/bokeh-widgets-0.12.0.min.css\");\n",
       "      Bokeh.embed.inject_css(\"https://cdn.pydata.org/bokeh/release/bokeh-widgets-0.12.0.min.css\");\n",
       "    }\n",
       "  ];\n",
       "\n",
       "  function run_inline_js() {\n",
       "    for (var i = 0; i < inline_js.length; i++) {\n",
       "      inline_js[i](window.Bokeh);\n",
       "    }\n",
       "  }\n",
       "\n",
       "  if (window._bokeh_is_loading === 0) {\n",
       "    console.log(\"Bokeh: BokehJS loaded, going straight to plotting\");\n",
       "    run_inline_js();\n",
       "  } else {\n",
       "    load_libs(js_urls, function() {\n",
       "      console.log(\"Bokeh: BokehJS plotting callback run at\", now());\n",
       "      run_inline_js();\n",
       "    });\n",
       "  }\n",
       "}(this));"
      ]
     },
     "metadata": {},
     "output_type": "display_data"
    }
   ],
   "source": [
    "import numpy as np\n",
    "import pandas as pd\n",
    "from sklearn.cross_validation import train_test_split\n",
    "from sklearn.metrics import confusion_matrix\n",
    "from sklearn import linear_model\n",
    "from scipy.stats import *\n",
    "\n",
    "from ipywidgets import interact, interactive, fixed, widgets\n",
    "\n",
    "from bokeh.plotting import figure\n",
    "from bokeh.io import output_notebook, show#, output_file #Descomentar para guardar el archivo .html\n",
    "from bokeh.models.widgets import Panel, Tabs\n",
    "output_notebook()"
   ]
  },
  {
   "cell_type": "code",
   "execution_count": 2,
   "metadata": {
    "collapsed": false
   },
   "outputs": [],
   "source": [
    "from sklearn.preprocessing import StandardScaler"
   ]
  },
  {
   "cell_type": "code",
   "execution_count": 3,
   "metadata": {
    "collapsed": true
   },
   "outputs": [],
   "source": [
    "df = pd.read_csv(\"regLinPoli.csv\")"
   ]
  },
  {
   "cell_type": "code",
   "execution_count": 4,
   "metadata": {
    "collapsed": false
   },
   "outputs": [],
   "source": [
    "def agregar_unos(m):\n",
    "    normalizado = StandardScaler().fit_transform(m)\n",
    "    unos = np.array([np.ones(normalizado.shape[0])])\n",
    "    return np.concatenate((unos.T,normalizado),axis=1)\n",
    "\n",
    "def sets(m):\n",
    "    datos = agregar_unos(m)\n",
    "    entrenamiento, prueba = train_test_split(datos, test_size=0.2)#, random_state=18)\n",
    "    return entrenamiento, prueba\n",
    "\n",
    "def separados(m):\n",
    "    entrenamiento, prueba = sets(m)\n",
    "    \n",
    "    entrenamiento_x = entrenamiento[:,range(0,entrenamiento.shape[1]-1)]\n",
    "    entrenamiento_y = entrenamiento[:,entrenamiento.shape[1]-1]\n",
    "\n",
    "    prueba_x = prueba[:,range(0,prueba.shape[1]-1)]\n",
    "    prueba_y = prueba[:,prueba.shape[1]-1]\n",
    "    return entrenamiento_x, entrenamiento_y, prueba_x, prueba_y\n",
    "\n",
    "def sep_lambda(m):\n",
    "    entrenamientos_x, entrenamientos_y, prueba_x, prueba_y = separados(m)\n",
    "    corte = int(round(0.8*len(entrenamientos_x)))\n",
    "    entrenamiento_x = entrenamientos_x[0:corte,:]\n",
    "    entrenamiento_y = entrenamientos_y[0:corte]\n",
    "    lamb_x = entrenamientos_x[corte:len(entrenamientos_x),:]\n",
    "    lamb_y = entrenamientos_y[corte:len(entrenamientos_y)]\n",
    "    return entrenamiento_x, entrenamiento_y, prueba_x, prueba_y, lamb_x, lamb_y"
   ]
  },
  {
   "cell_type": "code",
   "execution_count": 5,
   "metadata": {
    "collapsed": true
   },
   "outputs": [],
   "source": [
    "def LMS(df,eta):\n",
    "    \"\"\"\n",
    "    Función de eta\n",
    "    \"\"\"\n",
    "    \n",
    "    lamb = 0\n",
    "    \n",
    "    entrenamiento_x, entrenamiento_y, prueba_x, prueba_y, lamb_x, lamb_y = sep_lambda(df)\n",
    "        \n",
    "    w = np.ones(df.shape[1])\n",
    "\n",
    "    error = []    \n",
    "\n",
    "    contador = 0\n",
    "\n",
    "    while (sum(np.dot(w,entrenamiento_x.T) - entrenamiento_y))**2 + lamb*np.dot(w.T,w)> 0.01:\n",
    "        error.append((sum(np.dot(w,entrenamiento_x.T) - entrenamiento_y))**2 + lamb*np.dot(w.T,w))\n",
    "        w[0] = w[0] + (eta * sum((entrenamiento_y - np.dot(w,entrenamiento_x.T)))/len(entrenamiento_y))\n",
    "        for i in range(1,len(w)):\n",
    "            w[i] = w[i] + (eta * sum((entrenamiento_y - np.dot(w,entrenamiento_x.T)) #\n",
    "                                     * entrenamiento_x[:,i])/len(entrenamiento_y)) - (lamb * np.dot(w.T,w))\n",
    "        if (sum(np.dot(w,entrenamiento_x.T) - entrenamiento_y))**2 + lamb*np.dot(w.T,w) > error[len(error)-1]:\n",
    "            break\n",
    "        contador += 1\n",
    "    \n",
    "    error_prueba = (sum(np.dot(w,prueba_x.T) - prueba_y))**2 + lamb*np.dot(w.T,w)\n",
    "    \n",
    "    return error, w, contador, entrenamiento_x, entrenamiento_y, prueba_x, prueba_y, error_prueba, lamb_x, lamb_y"
   ]
  },
  {
   "cell_type": "code",
   "execution_count": 6,
   "metadata": {
    "collapsed": false
   },
   "outputs": [],
   "source": [
    "def regularizacion(df,eta=0.05,paso=0.0001220703125):\n",
    "    error, w, contador, entrenamiento_x, entrenamiento_y, prueba_x, prueba_y, error_prueba, lamb_x, lamb_y = LMS(df,eta)\n",
    "    W = np.copy(w)\n",
    "    lamb = 0\n",
    "    errorl = []\n",
    "    primero = (sum(np.dot(w,lamb_x.T) - lamb_y))**2 + lamb*np.dot(w.T,w)\n",
    "    for j in np.arange(0,1,paso):\n",
    "        eta = 0.05\n",
    "        lamb = j\n",
    "        w[0] = w[0] + (eta * sum((lamb_y - np.dot(w,lamb_x.T)))/len(lamb_y))\n",
    "        for i in range(1,len(w)):\n",
    "            w[i] = w[i] + (eta * sum((lamb_y - np.dot(w,lamb_x.T)) #\n",
    "                                     * lamb_x[:,i])/len(lamb_y)) - (lamb * np.dot(w.T,w))\n",
    "        errorl.append((sum(np.dot(w,lamb_x.T) - lamb_y))**2 + lamb*np.dot(w.T,w))\n",
    "        if (sum(np.dot(w,lamb_x.T) - lamb_y))**2 + lamb*np.dot(w.T,w) > primero:\n",
    "            break\n",
    "    return prueba_x, prueba_y, w, errorl, W, lamb_x, lamb_y\n",
    "\n",
    "def minimo(df,eta=0.05,paso=0.0001220703125):\n",
    "    prueba_x, prueba_y, w, errorl, W, lamb_x, lamb_y = regularizacion(df,eta,paso)\n",
    "    a = 0\n",
    "    lambdas = np.arange(0,1,paso)[0:len(errorl)]\n",
    "    for i in range(0,len(errorl)):\n",
    "        if errorl[i] == min(errorl):\n",
    "            a = i\n",
    "    error_minimo = errorl[a]\n",
    "    lambdita_minimo = lambdas[a]\n",
    "    return error_minimo, lambdita_minimo, prueba_x, prueba_y, w, errorl, lambdas, W, lamb_x, lamb_y"
   ]
  },
  {
   "cell_type": "code",
   "execution_count": 7,
   "metadata": {
    "collapsed": false
   },
   "outputs": [],
   "source": [
    "def graficar(df, eta=0.05,paso=0.0001220703125):\n",
    "    \n",
    "    error_minimo, lambdita_minimo, prueba_x, prueba_y, w, errorl, lambdas, W, lamb_x, lamb_y = minimo(df,eta,paso)\n",
    "    \n",
    "    s1 = figure(width=750, plot_height=500, title=None)\n",
    "\n",
    "    s1.circle(lambdas,errorl[0:len(errorl)], size=5, color=\"red\", alpha=0.5)\n",
    "    s1.circle(lambdita_minimo,error_minimo,size=6, color=\"blue\",alpha=0.9)\n",
    "    s1.title.text = \"Errores respecto al parámetro λ\"\n",
    "    s1.title.text_font_size = \"25px\"\n",
    "    s1.title.align = \"center\"\n",
    "    s1.xaxis.axis_label = \"λ\"\n",
    "    s1.yaxis.axis_label = \"Errores\"\n",
    "    \n",
    "    show(s1)\n",
    "    \n",
    "    print('w: {}\\n').format(w)\n",
    "    print('lambda óptimo: {}\\n').format(lambdita_minimo)\n",
    "    print('error mínimo con el set de lambdas: {}\\n').format(error_minimo)\n",
    "    print('error con set de prueba: {}\\n').format((sum(np.dot(w,prueba_x.T) - prueba_y))**2)\n",
    "    print('error con set de lambdas antes\\n de la regularización: {}\\n').format((sum(np.dot(W,lamb_x.T) - lamb_y))**2)"
   ]
  },
  {
   "cell_type": "code",
   "execution_count": 8,
   "metadata": {
    "collapsed": false
   },
   "outputs": [
    {
     "data": {
      "text/html": [
       "\n",
       "\n",
       "    <div class=\"bk-root\">\n",
       "        <div class=\"plotdiv\" id=\"a98d1f35-638a-4ce0-a224-8e14424b486e\"></div>\n",
       "    </div>\n",
       "<script type=\"text/javascript\">\n",
       "  \n",
       "  (function(global) {\n",
       "    function now() {\n",
       "      return new Date();\n",
       "    }\n",
       "  \n",
       "    if (typeof (window._bokeh_onload_callbacks) === \"undefined\") {\n",
       "      window._bokeh_onload_callbacks = [];\n",
       "    }\n",
       "  \n",
       "    function run_callbacks() {\n",
       "      window._bokeh_onload_callbacks.forEach(function(callback) { callback() });\n",
       "      delete window._bokeh_onload_callbacks\n",
       "      console.info(\"Bokeh: all callbacks have finished\");\n",
       "    }\n",
       "  \n",
       "    function load_libs(js_urls, callback) {\n",
       "      window._bokeh_onload_callbacks.push(callback);\n",
       "      if (window._bokeh_is_loading > 0) {\n",
       "        console.log(\"Bokeh: BokehJS is being loaded, scheduling callback at\", now());\n",
       "        return null;\n",
       "      }\n",
       "      if (js_urls == null || js_urls.length === 0) {\n",
       "        run_callbacks();\n",
       "        return null;\n",
       "      }\n",
       "      console.log(\"Bokeh: BokehJS not loaded, scheduling load and callback at\", now());\n",
       "      window._bokeh_is_loading = js_urls.length;\n",
       "      for (var i = 0; i < js_urls.length; i++) {\n",
       "        var url = js_urls[i];\n",
       "        var s = document.createElement('script');\n",
       "        s.src = url;\n",
       "        s.async = false;\n",
       "        s.onreadystatechange = s.onload = function() {\n",
       "          window._bokeh_is_loading--;\n",
       "          if (window._bokeh_is_loading === 0) {\n",
       "            console.log(\"Bokeh: all BokehJS libraries loaded\");\n",
       "            run_callbacks()\n",
       "          }\n",
       "        };\n",
       "        s.onerror = function() {\n",
       "          console.warn(\"failed to load library \" + url);\n",
       "        };\n",
       "        console.log(\"Bokeh: injecting script tag for BokehJS library: \", url);\n",
       "        document.getElementsByTagName(\"head\")[0].appendChild(s);\n",
       "      }\n",
       "    };var element = document.getElementById(\"a98d1f35-638a-4ce0-a224-8e14424b486e\");\n",
       "    if (element == null) {\n",
       "      console.log(\"Bokeh: ERROR: autoload.js configured with elementid 'a98d1f35-638a-4ce0-a224-8e14424b486e' but no matching script tag was found. \")\n",
       "      return false;\n",
       "    }\n",
       "  \n",
       "    var js_urls = [];\n",
       "  \n",
       "    var inline_js = [\n",
       "      function(Bokeh) {\n",
       "        Bokeh.$(function() {\n",
       "            var docs_json = {\"6ea58fd6-66c7-4f12-ac07-6ea88ca6c381\":{\"roots\":{\"references\":[{\"attributes\":{\"callback\":null},\"id\":\"d3e06080-e56f-4dec-8485-ee7b1ca4ce38\",\"type\":\"ColumnDataSource\"},{\"attributes\":{\"callback\":null,\"column_names\":[\"x\",\"y\"],\"data\":{\"x\":[0.0,0.0001220703125,0.000244140625,0.0003662109375,0.00048828125,0.0006103515625,0.000732421875,0.0008544921875,0.0009765625,0.0010986328125,0.001220703125,0.0013427734375,0.00146484375,0.0015869140625,0.001708984375,0.0018310546875,0.001953125,0.0020751953125,0.002197265625,0.0023193359375,0.00244140625,0.0025634765625,0.002685546875,0.0028076171875,0.0029296875,0.0030517578125,0.003173828125,0.0032958984375,0.00341796875,0.0035400390625,0.003662109375,0.0037841796875,0.00390625,0.0040283203125,0.004150390625,0.0042724609375,0.00439453125,0.0045166015625,0.004638671875,0.0047607421875,0.0048828125,0.0050048828125,0.005126953125,0.0052490234375,0.00537109375,0.0054931640625,0.005615234375,0.0057373046875,0.005859375,0.0059814453125,0.006103515625,0.0062255859375,0.00634765625,0.0064697265625,0.006591796875,0.0067138671875,0.0068359375,0.0069580078125,0.007080078125,0.0072021484375,0.00732421875,0.0074462890625,0.007568359375,0.0076904296875,0.0078125,0.0079345703125,0.008056640625,0.0081787109375,0.00830078125,0.0084228515625,0.008544921875,0.0086669921875,0.0087890625,0.0089111328125,0.009033203125,0.0091552734375,0.00927734375,0.0093994140625,0.009521484375,0.0096435546875,0.009765625,0.0098876953125,0.010009765625,0.0101318359375,0.01025390625,0.0103759765625,0.010498046875,0.0106201171875,0.0107421875,0.0108642578125,0.010986328125,0.0111083984375,0.01123046875,0.0113525390625,0.011474609375,0.0115966796875,0.01171875,0.0118408203125,0.011962890625,0.0120849609375,0.01220703125,0.0123291015625,0.012451171875,0.0125732421875,0.0126953125,0.0128173828125,0.012939453125,0.0130615234375,0.01318359375,0.0133056640625,0.013427734375,0.0135498046875,0.013671875,0.0137939453125,0.013916015625,0.0140380859375,0.01416015625,0.0142822265625,0.014404296875,0.0145263671875,0.0146484375,0.0147705078125,0.014892578125,0.0150146484375,0.01513671875,0.0152587890625,0.015380859375,0.0155029296875,0.015625],\"y\":[3.9531925685266436,3.480038027783735,3.077497532091507,2.7341751298501875,2.440620942964665,2.188986742210739,1.9727439600027432,1.7864526424414946,1.6255719811661187,1.486304803993194,1.3654698167501924,1.2603965380994935,1.168838804030629,1.088903479284916,1.018991631926453,0.9577499311077391,0.9040304383384538,0.8568572967508786,0.8153990951772059,0.7789459058621472,0.7468901757088442,0.7187107987218501,0.6939598179630528,0.6722513039096031,0.6532520366915643,0.636673685618726,0.6222662333879926,0.6098124365966564,0.5991231504646106,0.5900333754488564,0.5823989079034606,0.5760934970660814,0.5710064272257016,0.5670404575893248,0.5641100636420523,0.5621399331137915,0.5610636773768698,0.5608227254877864,0.5613653733874102,0.5626459651787843,0.5646241870673525,0.5672644576032793,0.5705354004159612,0.5744093877632332,0.5788621450037088,0.5838724075991738,0.5894216235134421,0.5954936949344802,0.6020747541414412,0.6091529690941425,0.6167183749634931,0.6247627283644761,0.6332793815159934,0.6422631739458249,0.6517103396958955,0.6616184282713417,0.6719862378249143,0.6828137592813931,0.6941021302913631,0.7058535980632537,0.718071490261881,0.7307601932829346,0.7439251373196436,0.7575727877317014,0.7717106423099906,0.7863472341048069,0.8014921395525517,0.8171559916958757,0.8333504983480156,0.8500884651029639,0.8673838231407537,0.8852516618220062,0.9037082661088315,0.9227711588905719,0.9424591483333362,0.9627923804124643,0.9837923968275206,1.005482198539922,1.0278863152157094,1.0510308808991256,1.074943716288346,1.0996544180327448,1.125194455522092,1.1515972756926145,1.17889841643397,1.2071356292441842,1.2363490118493055,1.266581151579142,1.297877280373312,1.3302854423817088,1.363856675223028,1.3986452060742849,1.4347086638852506,1.472108309145231,1.510909282778185,1.55118087590632,1.5929968224055286,1.6364356163797027,1.6815808569079236,1.728521622672255,1.7773528793572755,1.8281759230297394,1.881098863062655,1.936237148567087,1.9937141427433858,2.0536617500689647,2.116221101807704,2.18154330596845,2.249790268564708,2.3211355938480334,2.3957655721167783,2.4738802647566813,2.5556946973671666,2.641440173191534,2.7313657206219375,2.825739690325364,2.9248515195629725,3.029013683599705,3.1385638567637137,3.2538673087778456,3.3753195655098183,3.5033493673520133,3.6384219631387604,3.7810427829453297,3.9317615394192096,4.0911768146232905,4.259941197906391,4.438767050279778,4.628432982430997]}},\"id\":\"b24c7e43-feca-4538-bb40-36b43069913a\",\"type\":\"ColumnDataSource\"},{\"attributes\":{\"below\":[{\"id\":\"017f47d2-f7e1-4a52-8c75-cc6e4e25aea5\",\"type\":\"LinearAxis\"}],\"left\":[{\"id\":\"074e986f-8bcc-4941-b306-4075e870de16\",\"type\":\"LinearAxis\"}],\"plot_height\":500,\"plot_width\":750,\"renderers\":[{\"id\":\"017f47d2-f7e1-4a52-8c75-cc6e4e25aea5\",\"type\":\"LinearAxis\"},{\"id\":\"e0bcd5b6-9723-4e6f-9b95-103d0354b297\",\"type\":\"Grid\"},{\"id\":\"074e986f-8bcc-4941-b306-4075e870de16\",\"type\":\"LinearAxis\"},{\"id\":\"14d0fb36-0c18-472d-b7a0-3b59d30c99ee\",\"type\":\"Grid\"},{\"id\":\"4a61b2f1-625b-407c-a1dd-3b9ad60a37d0\",\"type\":\"BoxAnnotation\"},{\"id\":\"8543fe12-9fc8-40dc-971c-cc8cd5a83922\",\"type\":\"GlyphRenderer\"},{\"id\":\"ff27f7ad-c31a-4d42-aff0-2aa845fbed5d\",\"type\":\"GlyphRenderer\"}],\"title\":{\"id\":\"d9872ab1-db67-49b0-b9a7-6e5bc75b51d9\",\"type\":\"Title\"},\"tool_events\":{\"id\":\"2f51667c-6165-4298-9169-511d42f1f85b\",\"type\":\"ToolEvents\"},\"toolbar\":{\"id\":\"081b4289-0581-4bc7-8643-1438af0ab2ba\",\"type\":\"Toolbar\"},\"x_range\":{\"id\":\"ab154e11-f767-432f-8d97-55fef6a90ebe\",\"type\":\"DataRange1d\"},\"y_range\":{\"id\":\"b6b92eea-d6d0-4a23-92db-99fa6b71e13e\",\"type\":\"DataRange1d\"}},\"id\":\"9e950946-6320-462a-ac68-62786910c1f3\",\"subtype\":\"Figure\",\"type\":\"Plot\"},{\"attributes\":{\"align\":\"center\",\"plot\":null,\"text\":\"Errores respecto al par\\u00e1metro \\u03bb\",\"text_font_size\":{\"value\":\"25px\"}},\"id\":\"d9872ab1-db67-49b0-b9a7-6e5bc75b51d9\",\"type\":\"Title\"},{\"attributes\":{\"axis_label\":\"\\u03bb\",\"formatter\":{\"id\":\"5aadd691-acb3-4993-b66d-63bcfd651a29\",\"type\":\"BasicTickFormatter\"},\"plot\":{\"id\":\"9e950946-6320-462a-ac68-62786910c1f3\",\"subtype\":\"Figure\",\"type\":\"Plot\"},\"ticker\":{\"id\":\"899a549f-4d9b-4707-9035-b033cd497b35\",\"type\":\"BasicTicker\"}},\"id\":\"017f47d2-f7e1-4a52-8c75-cc6e4e25aea5\",\"type\":\"LinearAxis\"},{\"attributes\":{\"data_source\":{\"id\":\"b24c7e43-feca-4538-bb40-36b43069913a\",\"type\":\"ColumnDataSource\"},\"glyph\":{\"id\":\"90d94f18-d09c-4410-8ca9-a186aaea3c0a\",\"type\":\"Circle\"},\"hover_glyph\":null,\"nonselection_glyph\":{\"id\":\"1a3e3397-45da-4684-968a-9b25eefb13f2\",\"type\":\"Circle\"},\"selection_glyph\":null},\"id\":\"8543fe12-9fc8-40dc-971c-cc8cd5a83922\",\"type\":\"GlyphRenderer\"},{\"attributes\":{\"overlay\":{\"id\":\"4a61b2f1-625b-407c-a1dd-3b9ad60a37d0\",\"type\":\"BoxAnnotation\"},\"plot\":{\"id\":\"9e950946-6320-462a-ac68-62786910c1f3\",\"subtype\":\"Figure\",\"type\":\"Plot\"}},\"id\":\"7e6d4455-5678-4faa-babe-772d6d45807b\",\"type\":\"BoxZoomTool\"},{\"attributes\":{},\"id\":\"79fb31bd-e0a6-44ea-9a87-c1b270537a04\",\"type\":\"BasicTickFormatter\"},{\"attributes\":{\"fill_alpha\":{\"value\":0.1},\"fill_color\":{\"value\":\"#1f77b4\"},\"line_alpha\":{\"value\":0.1},\"line_color\":{\"value\":\"#1f77b4\"},\"size\":{\"units\":\"screen\",\"value\":5},\"x\":{\"field\":\"x\"},\"y\":{\"field\":\"y\"}},\"id\":\"1a3e3397-45da-4684-968a-9b25eefb13f2\",\"type\":\"Circle\"},{\"attributes\":{\"plot\":{\"id\":\"9e950946-6320-462a-ac68-62786910c1f3\",\"subtype\":\"Figure\",\"type\":\"Plot\"}},\"id\":\"41e484f2-7451-4fbe-b7dd-a851d0e57c3b\",\"type\":\"ResetTool\"},{\"attributes\":{\"callback\":null},\"id\":\"b6b92eea-d6d0-4a23-92db-99fa6b71e13e\",\"type\":\"DataRange1d\"},{\"attributes\":{\"plot\":{\"id\":\"9e950946-6320-462a-ac68-62786910c1f3\",\"subtype\":\"Figure\",\"type\":\"Plot\"}},\"id\":\"310e3f85-b168-4c62-86c2-54a764decaff\",\"type\":\"SaveTool\"},{\"attributes\":{\"data_source\":{\"id\":\"d3e06080-e56f-4dec-8485-ee7b1ca4ce38\",\"type\":\"ColumnDataSource\"},\"glyph\":{\"id\":\"23b40291-c25a-4bc8-b76b-f19e3b0feecb\",\"type\":\"Circle\"},\"hover_glyph\":null,\"nonselection_glyph\":{\"id\":\"85e8380e-29b8-4cfb-9005-d281c38d9d22\",\"type\":\"Circle\"},\"selection_glyph\":null},\"id\":\"ff27f7ad-c31a-4d42-aff0-2aa845fbed5d\",\"type\":\"GlyphRenderer\"},{\"attributes\":{\"callback\":null},\"id\":\"ab154e11-f767-432f-8d97-55fef6a90ebe\",\"type\":\"DataRange1d\"},{\"attributes\":{\"axis_label\":\"Errores\",\"formatter\":{\"id\":\"79fb31bd-e0a6-44ea-9a87-c1b270537a04\",\"type\":\"BasicTickFormatter\"},\"plot\":{\"id\":\"9e950946-6320-462a-ac68-62786910c1f3\",\"subtype\":\"Figure\",\"type\":\"Plot\"},\"ticker\":{\"id\":\"70b13707-c599-456a-a996-0131b30a5e1f\",\"type\":\"BasicTicker\"}},\"id\":\"074e986f-8bcc-4941-b306-4075e870de16\",\"type\":\"LinearAxis\"},{\"attributes\":{\"plot\":{\"id\":\"9e950946-6320-462a-ac68-62786910c1f3\",\"subtype\":\"Figure\",\"type\":\"Plot\"}},\"id\":\"37e2edd1-d945-4d1e-8a8f-58b55269de2a\",\"type\":\"PanTool\"},{\"attributes\":{\"fill_alpha\":{\"value\":0.1},\"fill_color\":{\"value\":\"#1f77b4\"},\"line_alpha\":{\"value\":0.1},\"line_color\":{\"value\":\"#1f77b4\"},\"size\":{\"units\":\"screen\",\"value\":6},\"x\":{\"value\":0.0045166015625},\"y\":{\"value\":0.5608227254877864}},\"id\":\"85e8380e-29b8-4cfb-9005-d281c38d9d22\",\"type\":\"Circle\"},{\"attributes\":{\"dimension\":1,\"plot\":{\"id\":\"9e950946-6320-462a-ac68-62786910c1f3\",\"subtype\":\"Figure\",\"type\":\"Plot\"},\"ticker\":{\"id\":\"70b13707-c599-456a-a996-0131b30a5e1f\",\"type\":\"BasicTicker\"}},\"id\":\"14d0fb36-0c18-472d-b7a0-3b59d30c99ee\",\"type\":\"Grid\"},{\"attributes\":{},\"id\":\"70b13707-c599-456a-a996-0131b30a5e1f\",\"type\":\"BasicTicker\"},{\"attributes\":{},\"id\":\"5aadd691-acb3-4993-b66d-63bcfd651a29\",\"type\":\"BasicTickFormatter\"},{\"attributes\":{\"plot\":{\"id\":\"9e950946-6320-462a-ac68-62786910c1f3\",\"subtype\":\"Figure\",\"type\":\"Plot\"}},\"id\":\"60472fdd-b304-4140-8391-5db02fce0516\",\"type\":\"HelpTool\"},{\"attributes\":{\"fill_alpha\":{\"value\":0.5},\"fill_color\":{\"value\":\"red\"},\"line_alpha\":{\"value\":0.5},\"line_color\":{\"value\":\"red\"},\"size\":{\"units\":\"screen\",\"value\":5},\"x\":{\"field\":\"x\"},\"y\":{\"field\":\"y\"}},\"id\":\"90d94f18-d09c-4410-8ca9-a186aaea3c0a\",\"type\":\"Circle\"},{\"attributes\":{},\"id\":\"2f51667c-6165-4298-9169-511d42f1f85b\",\"type\":\"ToolEvents\"},{\"attributes\":{},\"id\":\"899a549f-4d9b-4707-9035-b033cd497b35\",\"type\":\"BasicTicker\"},{\"attributes\":{\"bottom_units\":\"screen\",\"fill_alpha\":{\"value\":0.5},\"fill_color\":{\"value\":\"lightgrey\"},\"left_units\":\"screen\",\"level\":\"overlay\",\"line_alpha\":{\"value\":1.0},\"line_color\":{\"value\":\"black\"},\"line_dash\":[4,4],\"line_width\":{\"value\":2},\"plot\":null,\"render_mode\":\"css\",\"right_units\":\"screen\",\"top_units\":\"screen\"},\"id\":\"4a61b2f1-625b-407c-a1dd-3b9ad60a37d0\",\"type\":\"BoxAnnotation\"},{\"attributes\":{\"fill_alpha\":{\"value\":0.9},\"fill_color\":{\"value\":\"blue\"},\"line_alpha\":{\"value\":0.9},\"line_color\":{\"value\":\"blue\"},\"size\":{\"units\":\"screen\",\"value\":6},\"x\":{\"value\":0.0045166015625},\"y\":{\"value\":0.5608227254877864}},\"id\":\"23b40291-c25a-4bc8-b76b-f19e3b0feecb\",\"type\":\"Circle\"},{\"attributes\":{\"plot\":{\"id\":\"9e950946-6320-462a-ac68-62786910c1f3\",\"subtype\":\"Figure\",\"type\":\"Plot\"}},\"id\":\"ca1c5a19-63a8-473c-b0c3-3e2ca89a14e5\",\"type\":\"WheelZoomTool\"},{\"attributes\":{\"active_drag\":\"auto\",\"active_scroll\":\"auto\",\"active_tap\":\"auto\",\"tools\":[{\"id\":\"37e2edd1-d945-4d1e-8a8f-58b55269de2a\",\"type\":\"PanTool\"},{\"id\":\"ca1c5a19-63a8-473c-b0c3-3e2ca89a14e5\",\"type\":\"WheelZoomTool\"},{\"id\":\"7e6d4455-5678-4faa-babe-772d6d45807b\",\"type\":\"BoxZoomTool\"},{\"id\":\"310e3f85-b168-4c62-86c2-54a764decaff\",\"type\":\"SaveTool\"},{\"id\":\"41e484f2-7451-4fbe-b7dd-a851d0e57c3b\",\"type\":\"ResetTool\"},{\"id\":\"60472fdd-b304-4140-8391-5db02fce0516\",\"type\":\"HelpTool\"}]},\"id\":\"081b4289-0581-4bc7-8643-1438af0ab2ba\",\"type\":\"Toolbar\"},{\"attributes\":{\"plot\":{\"id\":\"9e950946-6320-462a-ac68-62786910c1f3\",\"subtype\":\"Figure\",\"type\":\"Plot\"},\"ticker\":{\"id\":\"899a549f-4d9b-4707-9035-b033cd497b35\",\"type\":\"BasicTicker\"}},\"id\":\"e0bcd5b6-9723-4e6f-9b95-103d0354b297\",\"type\":\"Grid\"}],\"root_ids\":[\"9e950946-6320-462a-ac68-62786910c1f3\"]},\"title\":\"Bokeh Application\",\"version\":\"0.12.0\"}};\n",
       "            var render_items = [{\"docid\":\"6ea58fd6-66c7-4f12-ac07-6ea88ca6c381\",\"elementid\":\"a98d1f35-638a-4ce0-a224-8e14424b486e\",\"modelid\":\"9e950946-6320-462a-ac68-62786910c1f3\",\"notebook_comms_target\":\"672bb289-cbf7-48a4-879a-2c1e5bd24ca8\"}];\n",
       "            \n",
       "            Bokeh.embed.embed_items(docs_json, render_items);\n",
       "        });\n",
       "      },\n",
       "      function(Bokeh) {\n",
       "      }\n",
       "    ];\n",
       "  \n",
       "    function run_inline_js() {\n",
       "      for (var i = 0; i < inline_js.length; i++) {\n",
       "        inline_js[i](window.Bokeh);\n",
       "      }\n",
       "    }\n",
       "  \n",
       "    if (window._bokeh_is_loading === 0) {\n",
       "      console.log(\"Bokeh: BokehJS loaded, going straight to plotting\");\n",
       "      run_inline_js();\n",
       "    } else {\n",
       "      load_libs(js_urls, function() {\n",
       "        console.log(\"Bokeh: BokehJS plotting callback run at\", now());\n",
       "        run_inline_js();\n",
       "      });\n",
       "    }\n",
       "  }(this));\n",
       "</script>"
      ]
     },
     "metadata": {},
     "output_type": "display_data"
    },
    {
     "name": "stdout",
     "output_type": "stream",
     "text": [
      "w: [ 0.03677605  0.22142715  0.58327919 -0.53855512 -0.16923688]\n",
      "\n",
      "lambda óptimo: 0.0045166015625\n",
      "\n",
      "error mínimo con el set de lambdas: 0.560822725488\n",
      "\n",
      "error con set de prueba: 5.50648540247\n",
      "\n",
      "error con set de lambdas antes\n",
      " de la regularización: 4.51078652262\n",
      "\n"
     ]
    }
   ],
   "source": [
    "graficar(df, eta=0.01)"
   ]
  },
  {
   "cell_type": "code",
   "execution_count": null,
   "metadata": {
    "collapsed": true
   },
   "outputs": [],
   "source": []
  }
 ],
 "metadata": {
  "anaconda-cloud": {},
  "kernelspec": {
   "display_name": "Python 2 Anaconda",
   "language": "python",
   "name": "python2"
  },
  "language_info": {
   "codemirror_mode": {
    "name": "ipython",
    "version": 2
   },
   "file_extension": ".py",
   "mimetype": "text/x-python",
   "name": "python",
   "nbconvert_exporter": "python",
   "pygments_lexer": "ipython2",
   "version": "2.7.12"
  }
 },
 "nbformat": 4,
 "nbformat_minor": 0
}
