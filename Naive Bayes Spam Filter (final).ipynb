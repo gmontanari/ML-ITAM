{
 "cells": [
  {
   "cell_type": "code",
   "execution_count": 1,
   "metadata": {
    "collapsed": true
   },
   "outputs": [],
   "source": [
    "import numpy as np\n",
    "import pandas as pd\n",
    "import math\n",
    "#import matplotlib.pyplot as plt\n",
    "from sklearn.cross_validation import train_test_split\n",
    "#from sklearn.metrics import confusion_matrix\n",
    "from scipy.stats import *\n",
    "\n",
    "#%matplotlib inline"
   ]
  },
  {
   "cell_type": "code",
   "execution_count": 2,
   "metadata": {
    "collapsed": false
   },
   "outputs": [],
   "source": [
    "nombres = ['make','adress','all','3d','our','over','remove','internet','order','mail',\n",
    "           'receive','will','people','report','addresses','free','busisnes','email','you',\n",
    "           'credit','your','font','000','money','hp','hpl','george','650','lab','labs','telnet',\n",
    "           '857','data','415','85','technology','1999','parts','pm','direct','cs','meeting',\n",
    "           'original','project','re','edu','table','conference',';','(','[','!','$','#',\n",
    "           'capital_run_length_average','capital_run_length_longest','capital_run_length_total','spam'\n",
    "]\n",
    "\n",
    "df = pd.read_csv(\"datos.csv\", names = nombres) # El csv no tenía nombres puestos"
   ]
  },
  {
   "cell_type": "markdown",
   "metadata": {},
   "source": [
    "# Hacemos los cálculos del entrenamiento"
   ]
  },
  {
   "cell_type": "code",
   "execution_count": 3,
   "metadata": {
    "collapsed": false
   },
   "outputs": [],
   "source": [
    "entrenamiento, prueba = train_test_split(df, test_size=0.2)#, random_state=18)\n",
    "\n",
    "media_no_spam = entrenamiento[entrenamiento.spam==0].mean()\n",
    "media_spam = entrenamiento[entrenamiento.spam==1].mean()\n",
    "\n",
    "std_no_spam = entrenamiento[entrenamiento.spam==0].std()\n",
    "std_spam = entrenamiento[entrenamiento.spam==1].std()\n",
    "\n",
    "x_entrenamiento = entrenamiento.iloc[:,0:entrenamiento.shape[1]-1]\n",
    "y_entrenamiento = entrenamiento.spam\n",
    "\n",
    "x_prueba = prueba.iloc[:,0:prueba.shape[1]-1]\n",
    "y_prueba = prueba.spam\n",
    "\n",
    "pro_den_fun = norm(media_no_spam[0],std_no_spam[0])"
   ]
  },
  {
   "cell_type": "markdown",
   "metadata": {},
   "source": [
    "# Definimos las funciones"
   ]
  },
  {
   "cell_type": "code",
   "execution_count": 4,
   "metadata": {
    "collapsed": false
   },
   "outputs": [],
   "source": [
    "def sets(data_frame):\n",
    "    \"\"\"\n",
    "    Esta función divide los data frames en entrenamiento y prueba\n",
    "    \"\"\"\n",
    "    entrenamiento, prueba = train_test_split(data_frame, test_size=0.2)#, random_state=18)\n",
    "    return entrenamiento, prueba\n",
    "\n",
    "\n",
    "def calcularProbabilidad(x, mean, std):\n",
    "    \"\"\"\n",
    "    Esta función calcula la probabilidad de que la variable 'x' pertenezca a una pdf normal con media = mean y\n",
    "    desviación estándar = std\n",
    "    \"\"\"\n",
    "    exponente = math.exp(-(math.pow(x-mean,2)/(2*math.pow(std,2))))\n",
    "    return (1 / (math.sqrt(2*math.pi) * std)) * exponente\n",
    "\n",
    "\n",
    "def probabilidad_pertenencia_spam(n,df=x_entrenamiento):\n",
    "    \"\"\"\n",
    "    Esta función sirve para obtener la probabilidad de que una observación pertenezca a la categoría de SPAM\n",
    "    \n",
    "    Función de: \n",
    "    n := Número de la observación\n",
    "    df := El valor default es x_entrenamiento. Para hacer la inferencia hay que usar x_prueba\n",
    "    \"\"\"\n",
    "    hola = np.zeros(df.shape[1])\n",
    "    for i in range(0,len(hola)):\n",
    "        if df.iloc[n,i] != 0:\n",
    "            x = df.iloc[n,i]\n",
    "            mean = media_spam[i]\n",
    "            std = std_spam[i] \n",
    "            si = calcularProbabilidad(x, mean, std)\n",
    "            hola[i] = si\n",
    "    return(np.sum(hola)/len(hola))\n",
    "\n",
    "def probabilidad_pertenencia_no_spam(n,df=x_entrenamiento):\n",
    "    \"\"\"\n",
    "    Esta función sirve para obtener la probabilidad de que una observación no pertenezca a la categoría de SPAM\n",
    "    \n",
    "    Función de: \n",
    "    n := Número de la observación\n",
    "    df := El valor default es x_entrenamiento. Para hacer la inferencia hay que usar x_prueba\n",
    "    \"\"\"\n",
    "    hola = np.zeros(df.shape[1])\n",
    "    for i in range(0,len(hola)):\n",
    "        if df.iloc[n,i] != 0:\n",
    "            x = df.iloc[n,i]\n",
    "            mean = media_no_spam[i]\n",
    "            std = std_no_spam[i] \n",
    "            si = calcularProbabilidad(x, mean, std)\n",
    "            hola[i] = si\n",
    "    return(np.sum(hola)/len(hola))\n",
    "\n",
    "def es_o_no_es(df):\n",
    "    es_o_no_es_prueba = np.zeros(df.shape[0])\n",
    "    for i in range(0,df.shape[0]):\n",
    "        if probabilidad_pertenencia_spam(i,df) > probabilidad_pertenencia_no_spam(i,df):\n",
    "            es_o_no_es_prueba[i] = 1\n",
    "    return es_o_no_es_prueba\n",
    "\n",
    "def precision(df):\n",
    "    es = es_o_no_es(df)\n",
    "    probabilidad = (1- sum(abs(y_prueba - es))/len(es))*100\n",
    "    print('Pude predecir el spam el {0}% de las veces').format(probabilidad)"
   ]
  },
  {
   "cell_type": "markdown",
   "metadata": {},
   "source": [
    "# Hacemos la prueba"
   ]
  },
  {
   "cell_type": "code",
   "execution_count": 5,
   "metadata": {
    "collapsed": false
   },
   "outputs": [
    {
     "name": "stdout",
     "output_type": "stream",
     "text": [
      "Pude predecir el spam el 70.901194354% de las veces\n"
     ]
    }
   ],
   "source": [
    "precision(x_prueba)"
   ]
  },
  {
   "cell_type": "code",
   "execution_count": null,
   "metadata": {
    "collapsed": true
   },
   "outputs": [],
   "source": []
  }
 ],
 "metadata": {
  "kernelspec": {
   "display_name": "Python 2",
   "language": "python",
   "name": "python2"
  },
  "language_info": {
   "codemirror_mode": {
    "name": "ipython",
    "version": 2
   },
   "file_extension": ".py",
   "mimetype": "text/x-python",
   "name": "python",
   "nbconvert_exporter": "python",
   "pygments_lexer": "ipython2",
   "version": "2.7.12"
  }
 },
 "nbformat": 4,
 "nbformat_minor": 1
}
